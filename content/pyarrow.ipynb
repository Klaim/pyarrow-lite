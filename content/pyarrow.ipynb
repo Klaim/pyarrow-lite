{
  "metadata": {
    "language_info": {
      "file_extension": ".py",
      "mimetype": "text/x-python",
      "name": "python",
      "version": "3.10.2"
    },
    "kernelspec": {
      "name": "xeus-python",
      "display_name": "Python (XPython)",
      "language": "python"
    }
  },
  "nbformat_minor": 4,
  "nbformat": 4,
  "cells": [
    {
      "cell_type": "code",
      "source": "import numpy",
      "metadata": {
        "trusted": true
      },
      "execution_count": 1,
      "outputs": []
    },
    {
      "cell_type": "code",
      "source": "import pyarrow as pa",
      "metadata": {
        "trusted": true
      },
      "execution_count": 2,
      "outputs": []
    },
    {
      "cell_type": "code",
      "source": "import pytest",
      "metadata": {
        "trusted": true
      },
      "execution_count": 3,
      "outputs": []
    },
    {
      "cell_type": "code",
      "source": "import weakref",
      "metadata": {
        "trusted": true
      },
      "execution_count": 4,
      "outputs": []
    },
    {
      "cell_type": "code",
      "source": "\ndef test_total_bytes_allocated():\n    assert pa.total_allocated_bytes() == 0\n\n\ndef test_weakref():\n    arr = pa.array([1, 2, 3])\n    wr = weakref.ref(arr)\n    assert wr() is not None\n    del arr\n    assert wr() is None\n\n\ndef test_getitem_NULL():\n    arr = pa.array([1, None, 2])\n    assert arr[1].as_py() is None\n    assert arr[1].is_valid is False\n    assert isinstance(arr[1], pa.Int64Scalar)\n\n\ndef test_constructor_raises():\n    # This could happen by wrong capitalization.\n    # ARROW-2638: prevent calling extension class constructors directly\n    with pytest.raises(TypeError):\n        pa.Array([1, 2])\n\n\ndef test_list_format():\n    arr = pa.array([[1], None, [2, 3, None]])\n    result = arr.to_string()\n    expected = \"\"\"\\\n[\n  [\n    1\n  ],\n  null,\n  [\n    2,\n    3,\n    null\n  ]\n]\"\"\"\n    assert result == expected\n\n\ndef test_string_format():\n    arr = pa.array(['', None, 'foo'])\n    result = arr.to_string()\n    expected = \"\"\"\\\n[\n  \"\",\n  null,\n  \"foo\"\n]\"\"\"\n    assert result == expected\n\n\ndef test_long_array_format():\n    arr = pa.array(range(100))\n    result = arr.to_string(window=2)\n    expected = \"\"\"\\\n[\n  0,\n  1,\n  ...\n  98,\n  99\n]\"\"\"\n    assert result == expected\n\n\ndef test_indented_string_format():\n    arr = pa.array(['', None, 'foo'])\n    result = arr.to_string(indent=1)\n    expected = '[\\n \"\",\\n null,\\n \"foo\"\\n]'\n\n    assert result == expected\n\n\ndef test_top_level_indented_string_format():\n    arr = pa.array(['', None, 'foo'])\n    result = arr.to_string(top_level_indent=1)\n    expected = ' [\\n   \"\",\\n   null,\\n   \"foo\"\\n ]'\n\n    assert result == expected\n\n\ndef test_binary_format():\n    arr = pa.array([b'\\x00', b'', None, b'\\x01foo', b'\\x80\\xff'])\n    result = arr.to_string()\n    expected = \"\"\"\\\n[\n  00,\n  ,\n  null,\n  01666F6F,\n  80FF\n]\"\"\"\n    assert result == expected\n    \ndef test_failure():\n    print(\"hello\")\n    assert False\n\n",
      "metadata": {
        "trusted": true
      },
      "execution_count": 5,
      "outputs": []
    },
    {
      "cell_type": "code",
      "source": "test_failure()",
      "metadata": {},
      "execution_count": null,
      "outputs": []
    },
    {
      "cell_type": "code",
      "source": "test_total_bytes_allocated()\ntest_weakref()\ntest_getitem_NULL()\ntest_constructor_raises()\ntest_list_format()\ntest_string_format()\ntest_long_array_format()\ntest_indented_string_format()\ntest_top_level_indented_string_format()\ntest_binary_format()",
      "metadata": {
        "trusted": true
      },
      "execution_count": 7,
      "outputs": []
    },
    {
      "cell_type": "code",
      "source": "import numpy as np\nimport string\nimport io\nimport unittest\nimport itertools\nimport pickle\n",
      "metadata": {
        "trusted": true
      },
      "execution_count": 8,
      "outputs": []
    },
    {
      "cell_type": "code",
      "source": "\nfrom pyarrow.csv import (\n    open_csv, read_csv, ReadOptions, ParseOptions, ConvertOptions, ISO8601,\n    write_csv, WriteOptions, CSVWriter, InvalidRow)\n\n\n\ndef generate_col_names():\n    # 'a', 'b'... 'z', then 'aa', 'ab'...\n    letters = string.ascii_lowercase\n    yield from letters\n    for first in letters:\n        for second in letters:\n            yield first + second\n\n\ndef make_random_csv(num_cols=2, num_rows=10, linesep='\\r\\n', write_names=True):\n    arr = np.random.RandomState(42).randint(0, 1000, size=(num_cols, num_rows))\n    csv = io.StringIO()\n    col_names = list(itertools.islice(generate_col_names(), num_cols))\n    if write_names:\n        csv.write(\",\".join(col_names))\n        csv.write(linesep)\n    for row in arr.T:\n        csv.write(\",\".join(map(str, row)))\n        csv.write(linesep)\n    csv = csv.getvalue().encode()\n    columns = [pa.array(a, type=pa.int64()) for a in arr]\n    expected = pa.Table.from_arrays(columns, col_names)\n    return csv, expected\n\n\ndef make_empty_csv(column_names):\n    csv = io.StringIO()\n    csv.write(\",\".join(column_names))\n    csv.write(\"\\n\")\n    return csv.getvalue().encode()\n\n\ndef check_options_class(cls, **attr_values):\n    \"\"\"\n    Check setting and getting attributes of an *Options class.\n    \"\"\"\n    opts = cls()\n\n    for name, values in attr_values.items():\n        assert getattr(opts, name) == values[0], \\\n            \"incorrect default value for \" + name\n        for v in values:\n            setattr(opts, name, v)\n            assert getattr(opts, name) == v, \"failed setting value\"\n\n    with pytest.raises(AttributeError):\n        opts.zzz_non_existent = True\n\n    # Check constructor named arguments\n    non_defaults = {name: values[1] for name, values in attr_values.items()}\n    opts = cls(**non_defaults)\n    for name, value in non_defaults.items():\n        assert getattr(opts, name) == value\n\n\n# The various options classes need to be picklable for dataset\ndef check_options_class_pickling(cls, **attr_values):\n    opts = cls(**attr_values)\n    new_opts = pickle.loads(pickle.dumps(opts,\n                                         protocol=pickle.HIGHEST_PROTOCOL))\n    for name, value in attr_values.items():\n        assert getattr(new_opts, name) == value\n\n\nclass InvalidRowHandler:\n    def __init__(self, result):\n        self.result = result\n        self.rows = []\n\n    def __call__(self, row):\n        self.rows.append(row)\n        return self.result\n\n    def __eq__(self, other):\n        return (isinstance(other, InvalidRowHandler) and\n                other.result == self.result)\n\n    def __ne__(self, other):\n        return (not isinstance(other, InvalidRowHandler) or\n                other.result != self.result)\n\n\ndef test_read_options():\n    cls = ReadOptions\n    opts = cls()\n\n    check_options_class(cls, use_threads=[True, False],\n                        skip_rows=[0, 3],\n                        column_names=[[], [\"ab\", \"cd\"]],\n                        autogenerate_column_names=[False, True],\n                        encoding=['utf8', 'utf16'],\n                        skip_rows_after_names=[0, 27])\n\n    check_options_class_pickling(cls, use_threads=True,\n                                 skip_rows=3,\n                                 column_names=[\"ab\", \"cd\"],\n                                 autogenerate_column_names=False,\n                                 encoding='utf16',\n                                 skip_rows_after_names=27)\n\n    assert opts.block_size > 0\n    opts.block_size = 12345\n    assert opts.block_size == 12345\n\n    opts = cls(block_size=1234)\n    assert opts.block_size == 1234\n\n    opts.validate()\n\n    match = \"ReadOptions: block_size must be at least 1: 0\"\n    with pytest.raises(pa.ArrowInvalid, match=match):\n        opts = cls()\n        opts.block_size = 0\n        opts.validate()\n\n    match = \"ReadOptions: skip_rows cannot be negative: -1\"\n    with pytest.raises(pa.ArrowInvalid, match=match):\n        opts = cls()\n        opts.skip_rows = -1\n        opts.validate()\n\n    match = \"ReadOptions: skip_rows_after_names cannot be negative: -1\"\n    with pytest.raises(pa.ArrowInvalid, match=match):\n        opts = cls()\n        opts.skip_rows_after_names = -1\n        opts.validate()\n\n    match = \"ReadOptions: autogenerate_column_names cannot be true when\" \\\n            \" column_names are provided\"\n    with pytest.raises(pa.ArrowInvalid, match=match):\n        opts = cls()\n        opts.autogenerate_column_names = True\n        opts.column_names = ('a', 'b')\n        opts.validate()\n\n\ndef test_parse_options():\n    cls = ParseOptions\n    skip_handler = InvalidRowHandler('skip')\n\n    check_options_class(cls, delimiter=[',', 'x'],\n                        escape_char=[False, 'y'],\n                        quote_char=['\"', 'z', False],\n                        double_quote=[True, False],\n                        newlines_in_values=[False, True],\n                        ignore_empty_lines=[True, False],\n                        invalid_row_handler=[None, skip_handler])\n\n    check_options_class_pickling(cls, delimiter='x',\n                                 escape_char='y',\n                                 quote_char=False,\n                                 double_quote=False,\n                                 newlines_in_values=True,\n                                 ignore_empty_lines=False,\n                                 invalid_row_handler=skip_handler)\n\n    cls().validate()\n    opts = cls()\n    opts.delimiter = \"\\t\"\n    opts.validate()\n\n    match = \"ParseOptions: delimiter cannot be \\\\\\\\r or \\\\\\\\n\"\n    with pytest.raises(pa.ArrowInvalid, match=match):\n        opts = cls()\n        opts.delimiter = \"\\n\"\n        opts.validate()\n\n    with pytest.raises(pa.ArrowInvalid, match=match):\n        opts = cls()\n        opts.delimiter = \"\\r\"\n        opts.validate()\n\n    match = \"ParseOptions: quote_char cannot be \\\\\\\\r or \\\\\\\\n\"\n    with pytest.raises(pa.ArrowInvalid, match=match):\n        opts = cls()\n        opts.quote_char = \"\\n\"\n        opts.validate()\n\n    with pytest.raises(pa.ArrowInvalid, match=match):\n        opts = cls()\n        opts.quote_char = \"\\r\"\n        opts.validate()\n\n    match = \"ParseOptions: escape_char cannot be \\\\\\\\r or \\\\\\\\n\"\n    with pytest.raises(pa.ArrowInvalid, match=match):\n        opts = cls()\n        opts.escape_char = \"\\n\"\n        opts.validate()\n\n    with pytest.raises(pa.ArrowInvalid, match=match):\n        opts = cls()\n        opts.escape_char = \"\\r\"\n        opts.validate()\n\n\ndef test_convert_options():\n    cls = ConvertOptions\n    opts = cls()\n\n    check_options_class(\n        cls, check_utf8=[True, False],\n        strings_can_be_null=[False, True],\n        quoted_strings_can_be_null=[True, False],\n        decimal_point=['.', ','],\n        include_columns=[[], ['def', 'abc']],\n        include_missing_columns=[False, True],\n        auto_dict_encode=[False, True],\n        timestamp_parsers=[[], [ISO8601, '%y-%m']])\n\n    check_options_class_pickling(\n        cls, check_utf8=False,\n        strings_can_be_null=True,\n        quoted_strings_can_be_null=False,\n        decimal_point=',',\n        include_columns=['def', 'abc'],\n        include_missing_columns=False,\n        auto_dict_encode=True,\n        timestamp_parsers=[ISO8601, '%y-%m'])\n\n    with pytest.raises(ValueError):\n        opts.decimal_point = '..'\n\n    assert opts.auto_dict_max_cardinality > 0\n    opts.auto_dict_max_cardinality = 99999\n    assert opts.auto_dict_max_cardinality == 99999\n\n    assert opts.column_types == {}\n    # Pass column_types as mapping\n    opts.column_types = {'b': pa.int16(), 'c': pa.float32()}\n    assert opts.column_types == {'b': pa.int16(), 'c': pa.float32()}\n    opts.column_types = {'v': 'int16', 'w': 'null'}\n    assert opts.column_types == {'v': pa.int16(), 'w': pa.null()}\n    # Pass column_types as schema\n    schema = pa.schema([('a', pa.int32()), ('b', pa.string())])\n    opts.column_types = schema\n    assert opts.column_types == {'a': pa.int32(), 'b': pa.string()}\n    # Pass column_types as sequence\n    opts.column_types = [('x', pa.binary())]\n    assert opts.column_types == {'x': pa.binary()}\n\n    with pytest.raises(TypeError, match='DataType expected'):\n        opts.column_types = {'a': None}\n    with pytest.raises(TypeError):\n        opts.column_types = 0\n\n    assert isinstance(opts.null_values, list)\n    assert '' in opts.null_values\n    assert 'N/A' in opts.null_values\n    opts.null_values = ['xxx', 'yyy']\n    assert opts.null_values == ['xxx', 'yyy']\n\n    assert isinstance(opts.true_values, list)\n    opts.true_values = ['xxx', 'yyy']\n    assert opts.true_values == ['xxx', 'yyy']\n\n    assert isinstance(opts.false_values, list)\n    opts.false_values = ['xxx', 'yyy']\n    assert opts.false_values == ['xxx', 'yyy']\n\n    assert opts.timestamp_parsers == []\n    opts.timestamp_parsers = [ISO8601]\n    assert opts.timestamp_parsers == [ISO8601]\n\n    opts = cls(column_types={'a': pa.null()},\n               null_values=['N', 'nn'], true_values=['T', 'tt'],\n               false_values=['F', 'ff'], auto_dict_max_cardinality=999,\n               timestamp_parsers=[ISO8601, '%Y-%m-%d'])\n    assert opts.column_types == {'a': pa.null()}\n    assert opts.null_values == ['N', 'nn']\n    assert opts.false_values == ['F', 'ff']\n    assert opts.true_values == ['T', 'tt']\n    assert opts.auto_dict_max_cardinality == 999\n    assert opts.timestamp_parsers == [ISO8601, '%Y-%m-%d']\n\n\ndef test_write_options():\n    cls = WriteOptions\n    opts = cls()\n\n    check_options_class(\n        cls, include_header=[True, False], delimiter=[',', '\\t', '|'])\n\n    assert opts.batch_size > 0\n    opts.batch_size = 12345\n    assert opts.batch_size == 12345\n\n    opts = cls(batch_size=9876)\n    assert opts.batch_size == 9876\n\n    opts.validate()\n\n    match = \"WriteOptions: batch_size must be at least 1: 0\"\n    with pytest.raises(pa.ArrowInvalid, match=match):\n        opts = cls()\n        opts.batch_size = 0\n        opts.validate()\n",
      "metadata": {
        "trusted": true
      },
      "execution_count": 9,
      "outputs": []
    },
    {
      "cell_type": "code",
      "source": "",
      "metadata": {},
      "execution_count": null,
      "outputs": []
    }
  ]
}